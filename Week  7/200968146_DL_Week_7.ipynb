{
  "nbformat": 4,
  "nbformat_minor": 0,
  "metadata": {
    "colab": {
      "provenance": [],
      "authorship_tag": "ABX9TyMgozQ7Poao4kH8K5DoQwmt",
      "include_colab_link": true
    },
    "kernelspec": {
      "name": "python3",
      "display_name": "Python 3"
    },
    "language_info": {
      "name": "python"
    },
    "accelerator": "GPU"
  },
  "cells": [
    {
      "cell_type": "markdown",
      "metadata": {
        "id": "view-in-github",
        "colab_type": "text"
      },
      "source": [
        "<a href=\"https://colab.research.google.com/github/manvendra-07/DL-Lab/blob/main/Week%20%207/200968146_DL_Week_7.ipynb\" target=\"_parent\"><img src=\"https://colab.research.google.com/assets/colab-badge.svg\" alt=\"Open In Colab\"/></a>"
      ]
    },
    {
      "cell_type": "code",
      "execution_count": 4,
      "metadata": {
        "id": "COohaBq64F36"
      },
      "outputs": [],
      "source": [
        "import tensorflow as tf\n",
        "import numpy as np\n",
        "import seaborn as sns\n",
        "import pandas as pd\n",
        "from matplotlib import pyplot as plt"
      ]
    },
    {
      "cell_type": "code",
      "source": [
        "import re\n",
        "import nltk\n",
        "nltk.download('stopwords')\n",
        "nltk.download('wordnet')\n",
        "nltk.download('omw-1.4')\n",
        "from nltk.corpus import stopwords\n",
        "from nltk.stem.porter import PorterStemmer\n",
        "from sklearn.feature_extraction.text import TfidfVectorizer, CountVectorizer\n",
        "from nltk.stem import WordNetLemmatizer\n",
        "from nltk.probability import FreqDist\n",
        "from wordcloud import WordCloud"
      ],
      "metadata": {
        "colab": {
          "base_uri": "https://localhost:8080/"
        },
        "id": "201dLyba832T",
        "outputId": "8e82ae5a-2316-46b8-e6e5-9b6383d6a456"
      },
      "execution_count": 5,
      "outputs": [
        {
          "output_type": "stream",
          "name": "stderr",
          "text": [
            "[nltk_data] Downloading package stopwords to /root/nltk_data...\n",
            "[nltk_data]   Package stopwords is already up-to-date!\n",
            "[nltk_data] Downloading package wordnet to /root/nltk_data...\n",
            "[nltk_data]   Package wordnet is already up-to-date!\n",
            "[nltk_data] Downloading package omw-1.4 to /root/nltk_data...\n",
            "[nltk_data]   Package omw-1.4 is already up-to-date!\n"
          ]
        }
      ]
    },
    {
      "cell_type": "code",
      "source": [
        "train = pd.read_csv(\"Train.csv\")\n",
        "test = pd.read_csv(\"Test.csv\")\n",
        "valid = pd.read_csv(\"Valid.csv\")\n",
        "train.head()"
      ],
      "metadata": {
        "colab": {
          "base_uri": "https://localhost:8080/",
          "height": 206
        },
        "id": "38YnyEI84Wt0",
        "outputId": "f35b92fd-ecb3-4814-e74c-2281448361e9"
      },
      "execution_count": 8,
      "outputs": [
        {
          "output_type": "execute_result",
          "data": {
            "text/plain": [
              "                                                text  label\n",
              "0  I grew up (b. 1965) watching and loving the Th...      0\n",
              "1  When I put this movie in my DVD player, and sa...      0\n",
              "2  Why do people who do not know what a particula...      0\n",
              "3  Even though I have great interest in Biblical ...      0\n",
              "4  Im a die hard Dads Army fan and nothing will e...      1"
            ],
            "text/html": [
              "\n",
              "  <div id=\"df-75366dad-a09e-4cdf-acfe-09f24bcee04e\">\n",
              "    <div class=\"colab-df-container\">\n",
              "      <div>\n",
              "<style scoped>\n",
              "    .dataframe tbody tr th:only-of-type {\n",
              "        vertical-align: middle;\n",
              "    }\n",
              "\n",
              "    .dataframe tbody tr th {\n",
              "        vertical-align: top;\n",
              "    }\n",
              "\n",
              "    .dataframe thead th {\n",
              "        text-align: right;\n",
              "    }\n",
              "</style>\n",
              "<table border=\"1\" class=\"dataframe\">\n",
              "  <thead>\n",
              "    <tr style=\"text-align: right;\">\n",
              "      <th></th>\n",
              "      <th>text</th>\n",
              "      <th>label</th>\n",
              "    </tr>\n",
              "  </thead>\n",
              "  <tbody>\n",
              "    <tr>\n",
              "      <th>0</th>\n",
              "      <td>I grew up (b. 1965) watching and loving the Th...</td>\n",
              "      <td>0</td>\n",
              "    </tr>\n",
              "    <tr>\n",
              "      <th>1</th>\n",
              "      <td>When I put this movie in my DVD player, and sa...</td>\n",
              "      <td>0</td>\n",
              "    </tr>\n",
              "    <tr>\n",
              "      <th>2</th>\n",
              "      <td>Why do people who do not know what a particula...</td>\n",
              "      <td>0</td>\n",
              "    </tr>\n",
              "    <tr>\n",
              "      <th>3</th>\n",
              "      <td>Even though I have great interest in Biblical ...</td>\n",
              "      <td>0</td>\n",
              "    </tr>\n",
              "    <tr>\n",
              "      <th>4</th>\n",
              "      <td>Im a die hard Dads Army fan and nothing will e...</td>\n",
              "      <td>1</td>\n",
              "    </tr>\n",
              "  </tbody>\n",
              "</table>\n",
              "</div>\n",
              "      <button class=\"colab-df-convert\" onclick=\"convertToInteractive('df-75366dad-a09e-4cdf-acfe-09f24bcee04e')\"\n",
              "              title=\"Convert this dataframe to an interactive table.\"\n",
              "              style=\"display:none;\">\n",
              "        \n",
              "  <svg xmlns=\"http://www.w3.org/2000/svg\" height=\"24px\"viewBox=\"0 0 24 24\"\n",
              "       width=\"24px\">\n",
              "    <path d=\"M0 0h24v24H0V0z\" fill=\"none\"/>\n",
              "    <path d=\"M18.56 5.44l.94 2.06.94-2.06 2.06-.94-2.06-.94-.94-2.06-.94 2.06-2.06.94zm-11 1L8.5 8.5l.94-2.06 2.06-.94-2.06-.94L8.5 2.5l-.94 2.06-2.06.94zm10 10l.94 2.06.94-2.06 2.06-.94-2.06-.94-.94-2.06-.94 2.06-2.06.94z\"/><path d=\"M17.41 7.96l-1.37-1.37c-.4-.4-.92-.59-1.43-.59-.52 0-1.04.2-1.43.59L10.3 9.45l-7.72 7.72c-.78.78-.78 2.05 0 2.83L4 21.41c.39.39.9.59 1.41.59.51 0 1.02-.2 1.41-.59l7.78-7.78 2.81-2.81c.8-.78.8-2.07 0-2.86zM5.41 20L4 18.59l7.72-7.72 1.47 1.35L5.41 20z\"/>\n",
              "  </svg>\n",
              "      </button>\n",
              "      \n",
              "  <style>\n",
              "    .colab-df-container {\n",
              "      display:flex;\n",
              "      flex-wrap:wrap;\n",
              "      gap: 12px;\n",
              "    }\n",
              "\n",
              "    .colab-df-convert {\n",
              "      background-color: #E8F0FE;\n",
              "      border: none;\n",
              "      border-radius: 50%;\n",
              "      cursor: pointer;\n",
              "      display: none;\n",
              "      fill: #1967D2;\n",
              "      height: 32px;\n",
              "      padding: 0 0 0 0;\n",
              "      width: 32px;\n",
              "    }\n",
              "\n",
              "    .colab-df-convert:hover {\n",
              "      background-color: #E2EBFA;\n",
              "      box-shadow: 0px 1px 2px rgba(60, 64, 67, 0.3), 0px 1px 3px 1px rgba(60, 64, 67, 0.15);\n",
              "      fill: #174EA6;\n",
              "    }\n",
              "\n",
              "    [theme=dark] .colab-df-convert {\n",
              "      background-color: #3B4455;\n",
              "      fill: #D2E3FC;\n",
              "    }\n",
              "\n",
              "    [theme=dark] .colab-df-convert:hover {\n",
              "      background-color: #434B5C;\n",
              "      box-shadow: 0px 1px 3px 1px rgba(0, 0, 0, 0.15);\n",
              "      filter: drop-shadow(0px 1px 2px rgba(0, 0, 0, 0.3));\n",
              "      fill: #FFFFFF;\n",
              "    }\n",
              "  </style>\n",
              "\n",
              "      <script>\n",
              "        const buttonEl =\n",
              "          document.querySelector('#df-75366dad-a09e-4cdf-acfe-09f24bcee04e button.colab-df-convert');\n",
              "        buttonEl.style.display =\n",
              "          google.colab.kernel.accessAllowed ? 'block' : 'none';\n",
              "\n",
              "        async function convertToInteractive(key) {\n",
              "          const element = document.querySelector('#df-75366dad-a09e-4cdf-acfe-09f24bcee04e');\n",
              "          const dataTable =\n",
              "            await google.colab.kernel.invokeFunction('convertToInteractive',\n",
              "                                                     [key], {});\n",
              "          if (!dataTable) return;\n",
              "\n",
              "          const docLinkHtml = 'Like what you see? Visit the ' +\n",
              "            '<a target=\"_blank\" href=https://colab.research.google.com/notebooks/data_table.ipynb>data table notebook</a>'\n",
              "            + ' to learn more about interactive tables.';\n",
              "          element.innerHTML = '';\n",
              "          dataTable['output_type'] = 'display_data';\n",
              "          await google.colab.output.renderOutput(dataTable, element);\n",
              "          const docLink = document.createElement('div');\n",
              "          docLink.innerHTML = docLinkHtml;\n",
              "          element.appendChild(docLink);\n",
              "        }\n",
              "      </script>\n",
              "    </div>\n",
              "  </div>\n",
              "  "
            ]
          },
          "metadata": {},
          "execution_count": 8
        }
      ]
    },
    {
      "cell_type": "code",
      "source": [
        "X_train, X_test, X_valid = train['text'], test['text'], valid['text']\n",
        "Y_train, Y_test, Y_valid = train['label'], test['label'], valid['label']"
      ],
      "metadata": {
        "id": "omrq73fQ65sq"
      },
      "execution_count": 9,
      "outputs": []
    },
    {
      "cell_type": "markdown",
      "source": [
        "\n",
        "- **Using the Regular Expression (re) library, replace html tags with spaces and remove emojis**"
      ],
      "metadata": {
        "id": "Fm-ZAsvI8SB0"
      }
    },
    {
      "cell_type": "code",
      "source": [
        "stop_words = stopwords.words('english')\n",
        "def preprocess(text):\n",
        "    text=re.sub('<[^>]*>','', text)\n",
        "    emoji=re.findall('(?::|;|=)(?:-)?(?:\\)|\\(|D|P)', text)\n",
        "    text=re.sub('[\\W]+',' ',text.lower()) +\\\n",
        "                ' '.join(emoji).replace('-','')\n",
        "\n",
        "    text = text.lower()\n",
        "    text = [w for w in text.split(' ') if w not in stop_words]\n",
        "    text = [WordNetLemmatizer().lemmatize(token) for token in text]\n",
        "    text = [WordNetLemmatizer().lemmatize(token,pos='v') for token in text]\n",
        "    text = \" \".join(text)\n",
        "    return text"
      ],
      "metadata": {
        "id": "k7zsyM2H7W2b"
      },
      "execution_count": 10,
      "outputs": []
    },
    {
      "cell_type": "code",
      "source": [
        "X_train = X_train.apply(lambda x: preprocess(x))\n",
        "X_test = X_test.apply(lambda x: preprocess(x))\n",
        "X_valid = X_valid.apply(lambda x: preprocess(x))"
      ],
      "metadata": {
        "id": "tE5UKAG274Cs"
      },
      "execution_count": 11,
      "outputs": []
    },
    {
      "cell_type": "code",
      "source": [
        "X_train.head()"
      ],
      "metadata": {
        "colab": {
          "base_uri": "https://localhost:8080/"
        },
        "id": "JB6EHGiFL3-0",
        "outputId": "21a9d76a-e41a-4628-a3c6-2c8e1dd2dab6"
      },
      "execution_count": 12,
      "outputs": [
        {
          "output_type": "execute_result",
          "data": {
            "text/plain": [
              "0    grow b 1965 watch love thunderbird mate school...\n",
              "1    put movie dvd player sit coke chip expectation...\n",
              "2    people know particular time past like feel nee...\n",
              "3    even though great interest biblical movie bore...\n",
              "4    im die hard dad army fan nothing ever change g...\n",
              "Name: text, dtype: object"
            ]
          },
          "metadata": {},
          "execution_count": 12
        }
      ]
    },
    {
      "cell_type": "code",
      "source": [
        "def visualise_train(history):\n",
        "  sns.set_style(\"darkgrid\")\n",
        "  acc = history.history['accuracy']\n",
        "  val_acc = history.history['val_accuracy']\n",
        "  loss = history.history['loss']\n",
        "  val_loss = history.history['val_loss']\n",
        "\n",
        "  epochs = range(1, len(acc) + 1)\n",
        "\n",
        "  #Train and validation accuracy\n",
        "  plt.plot(epochs, acc, 'b', label='Training accurarcy')\n",
        "  plt.plot(epochs, val_acc, 'r', label='Validation accurarcy')\n",
        "  plt.xlabel('Epoch #')\n",
        "  plt.ylabel('accuracy')\n",
        "  plt.title('Training and Validation accurarcy')\n",
        "  plt.legend()\n",
        "\n",
        "  #Train and validation loss\n",
        "  plt.figure()\n",
        "  plt.plot(epochs, loss, 'b', label='Training loss')\n",
        "  plt.plot(epochs, val_loss, 'r', label='Validation loss')\n",
        "  plt.xlabel('Epoch #')\n",
        "  plt.ylabel('loss')\n",
        "  plt.title('Training and Validation loss')\n",
        "  plt.legend()\n",
        "\n",
        "  plt.show()"
      ],
      "metadata": {
        "id": "AGgfjuOsXbcB"
      },
      "execution_count": 23,
      "outputs": []
    },
    {
      "cell_type": "code",
      "source": [
        "from tensorflow.keras.preprocessing.text import Tokenizer\n",
        "from tensorflow.keras.preprocessing.sequence import pad_sequences\n",
        "\n",
        "#Tokenize the sentences\n",
        "tokenizer = Tokenizer()\n",
        "\n",
        "#preparing vocabulary\n",
        "tokenizer.fit_on_texts(X_train)\n",
        "\n",
        "#converting text into integer sequences\n",
        "X_train = tokenizer.texts_to_sequences(X_train)\n",
        "X_valid = tokenizer.texts_to_sequences(X_valid)\n",
        "X_test = tokenizer.texts_to_sequences(X_test)\n",
        "\n",
        "#padding to prepare sequences of same length\n",
        "X_train = pad_sequences(X_train, maxlen=120)\n",
        "X_valid = pad_sequences(X_valid, maxlen=120)\n",
        "X_test = pad_sequences(X_test, maxlen=120)"
      ],
      "metadata": {
        "id": "1N1RKofBL9-k"
      },
      "execution_count": 13,
      "outputs": []
    },
    {
      "cell_type": "code",
      "source": [
        "size_of_vocabulary = len(tokenizer.word_index)+1\n",
        "print(size_of_vocabulary)"
      ],
      "metadata": {
        "colab": {
          "base_uri": "https://localhost:8080/"
        },
        "id": "7xj9pkSkMUNK",
        "outputId": "61294fb4-1442-46e9-9045-c0d443acb6c7"
      },
      "execution_count": 14,
      "outputs": [
        {
          "output_type": "stream",
          "name": "stdout",
          "text": [
            "76139\n"
          ]
        }
      ]
    },
    {
      "cell_type": "code",
      "source": [
        "from tensorflow.keras.layers import SimpleRNN, LSTM, Dense, Embedding, Dropout, Bidirectional, GlobalMaxPooling1D\n",
        "from tensorflow.keras.callbacks import EarlyStopping, ModelCheckpoint\n",
        "\n",
        "def LSTM_Model():\n",
        "  model = tf.keras.Sequential([\n",
        "      Embedding(size_of_vocabulary, 128, input_length = 120),\n",
        "      LSTM(64, return_sequences=True, dropout=0.6),\n",
        "      LSTM(64, return_sequences=True, dropout=0.4),\n",
        "      LSTM(64, return_sequences=True, dropout=0.6),\n",
        "      LSTM(64, return_sequences=True, dropout=0.4),\n",
        "      LSTM(64, return_sequences=True, dropout=0.6),\n",
        "      LSTM(64, return_sequences=True, dropout=0.4),\n",
        "      LSTM(64, return_sequences=True, dropout=0.6),\n",
        "      LSTM(64, return_sequences=True, dropout=0.4),\n",
        "      LSTM(64, return_sequences=True, dropout=0.6),\n",
        "      LSTM(64, return_sequences=True, dropout=0.4),\n",
        "      LSTM(64, return_sequences=True, dropout=0.6),\n",
        "      LSTM(64, return_sequences=True, dropout=0.4),\n",
        "      LSTM(64, return_sequences=True, dropout=0.6),\n",
        "      LSTM(64, return_sequences=True, dropout=0.4),\n",
        "      LSTM(64, return_sequences=True, dropout=0.6),\n",
        "      Dense(1, activation='sigmoid')\n",
        "  ])\n",
        "  model.summary()\n",
        "  model.compile(loss='binary_crossentropy',optimizer='adam',metrics=['accuracy'])\n",
        "\n",
        "  return model"
      ],
      "metadata": {
        "id": "fchTBGrBV7xY"
      },
      "execution_count": 25,
      "outputs": []
    },
    {
      "cell_type": "code",
      "source": [
        "lstm = LSTM_Model()\n",
        "lstm_history = lstm.fit(X_train, Y_train, batch_size = 256, epochs = 4,validation_data = (X_valid, Y_valid), verbose = 1)"
      ],
      "metadata": {
        "colab": {
          "base_uri": "https://localhost:8080/"
        },
        "id": "S-etEPP2WjCX",
        "outputId": "e532f110-51a2-4b0f-f5dc-ecb79aad0670"
      },
      "execution_count": 28,
      "outputs": [
        {
          "output_type": "stream",
          "name": "stdout",
          "text": [
            "Model: \"sequential_3\"\n",
            "_________________________________________________________________\n",
            " Layer (type)                Output Shape              Param #   \n",
            "=================================================================\n",
            " embedding_3 (Embedding)     (None, 120, 128)          9745792   \n",
            "                                                                 \n",
            " lstm_30 (LSTM)              (None, 120, 64)           49408     \n",
            "                                                                 \n",
            " lstm_31 (LSTM)              (None, 120, 64)           33024     \n",
            "                                                                 \n",
            " lstm_32 (LSTM)              (None, 120, 64)           33024     \n",
            "                                                                 \n",
            " lstm_33 (LSTM)              (None, 120, 64)           33024     \n",
            "                                                                 \n",
            " lstm_34 (LSTM)              (None, 120, 64)           33024     \n",
            "                                                                 \n",
            " lstm_35 (LSTM)              (None, 120, 64)           33024     \n",
            "                                                                 \n",
            " lstm_36 (LSTM)              (None, 120, 64)           33024     \n",
            "                                                                 \n",
            " lstm_37 (LSTM)              (None, 120, 64)           33024     \n",
            "                                                                 \n",
            " lstm_38 (LSTM)              (None, 120, 64)           33024     \n",
            "                                                                 \n",
            " lstm_39 (LSTM)              (None, 120, 64)           33024     \n",
            "                                                                 \n",
            " lstm_40 (LSTM)              (None, 120, 64)           33024     \n",
            "                                                                 \n",
            " lstm_41 (LSTM)              (None, 120, 64)           33024     \n",
            "                                                                 \n",
            " lstm_42 (LSTM)              (None, 120, 64)           33024     \n",
            "                                                                 \n",
            " lstm_43 (LSTM)              (None, 120, 64)           33024     \n",
            "                                                                 \n",
            " lstm_44 (LSTM)              (None, 120, 64)           33024     \n",
            "                                                                 \n",
            " dense_3 (Dense)             (None, 120, 1)            65        \n",
            "                                                                 \n",
            "=================================================================\n",
            "Total params: 10,257,601\n",
            "Trainable params: 10,257,601\n",
            "Non-trainable params: 0\n",
            "_________________________________________________________________\n",
            "Epoch 1/4\n",
            "157/157 [==============================] - 53s 215ms/step - loss: 0.6933 - accuracy: 0.4955 - val_loss: 0.6931 - val_accuracy: 0.5028\n",
            "Epoch 2/4\n",
            "157/157 [==============================] - 20s 128ms/step - loss: 0.6932 - accuracy: 0.5010 - val_loss: 0.6932 - val_accuracy: 0.4972\n",
            "Epoch 3/4\n",
            "157/157 [==============================] - 19s 121ms/step - loss: 0.6932 - accuracy: 0.5034 - val_loss: 0.6932 - val_accuracy: 0.4972\n",
            "Epoch 4/4\n",
            "157/157 [==============================] - 19s 120ms/step - loss: 0.6835 - accuracy: 0.5293 - val_loss: 0.5715 - val_accuracy: 0.6722\n"
          ]
        }
      ]
    },
    {
      "cell_type": "code",
      "source": [
        "visualise_train(lstm_history)"
      ],
      "metadata": {
        "colab": {
          "base_uri": "https://localhost:8080/",
          "height": 573
        },
        "id": "317eCEDvXd1f",
        "outputId": "09be1cfd-25d6-43fd-ba2b-a4877cfe9d37"
      },
      "execution_count": 29,
      "outputs": [
        {
          "output_type": "display_data",
          "data": {
            "text/plain": [
              "<Figure size 432x288 with 1 Axes>"
            ],
            "image/png": "[encoded data removed]"
          },
          "metadata": {}
        },
        {
          "output_type": "display_data",
          "data": {
            "text/plain": [
              "<Figure size 432x288 with 1 Axes>"
            ],
            "image/png": "[encoded data removed]"
          },
          "metadata": {}
        }
      ]
    },
    {
      "cell_type": "code",
      "source": [
        "from tensorflow.keras.layers import SimpleRNN, LSTM, Dense, Embedding, Dropout, Bidirectional, GlobalMaxPooling1D\n",
        "from tensorflow.keras.callbacks import EarlyStopping, ModelCheckpoint\n",
        "\n",
        "def RNN_Model():\n",
        "  model = tf.keras.Sequential([\n",
        "      Embedding(size_of_vocabulary,128,input_length=120),\n",
        "      Bidirectional(SimpleRNN(64, return_sequences= True,dropout=0.2)),\n",
        "      Bidirectional(SimpleRNN(64, return_sequences= True,dropout=0.2)),\n",
        "      Bidirectional(SimpleRNN(64, return_sequences= True,dropout=0.2)),\n",
        "      Bidirectional(SimpleRNN(64, return_sequences= True,dropout=0.2)),\n",
        "      Bidirectional(SimpleRNN(64, return_sequences= True,dropout=0.2)),\n",
        "      Bidirectional(SimpleRNN(64, return_sequences= True,dropout=0.2)),\n",
        "      Bidirectional(SimpleRNN(64, return_sequences= True,dropout=0.2)),\n",
        "      Bidirectional(SimpleRNN(64, return_sequences= True,dropout=0.2)),\n",
        "      Bidirectional(SimpleRNN(64, return_sequences= True,dropout=0.2)),\n",
        "      Bidirectional(SimpleRNN(64, return_sequences= True,dropout=0.2)),\n",
        "      Bidirectional(SimpleRNN(64, return_sequences= True,dropout=0.2)),\n",
        "      Bidirectional(SimpleRNN(64, return_sequences= True,dropout=0.2)),\n",
        "      Bidirectional(SimpleRNN(64, return_sequences= True,dropout=0.2)),\n",
        "      Bidirectional(SimpleRNN(64, return_sequences= True,dropout=0.2)),\n",
        "      Bidirectional(SimpleRNN(64, return_sequences= True,dropout=0.2)),\n",
        "      Bidirectional(SimpleRNN(64, return_sequences= True,dropout=0.2)),\n",
        "      Bidirectional(SimpleRNN(64, return_sequences= True,dropout=0.2)),\n",
        "      Bidirectional(SimpleRNN(64, return_sequences= True,dropout=0.2)),\n",
        "      Bidirectional(SimpleRNN(64, return_sequences= True,dropout=0.2)),\n",
        "      Dense(1, activation='sigmoid')\n",
        "  ])\n",
        "\n",
        "  model.summary()\n",
        "  model.compile(loss='binary_crossentropy',optimizer='adam',metrics=['accuracy'])\n",
        "\n",
        "  return model\n",
        "\n",
        "rnn = RNN_Model()"
      ],
      "metadata": {
        "id": "_JbwUJQ1MfYj"
      },
      "execution_count": 30,
      "outputs": []
    },
    {
      "cell_type": "code",
      "source": [
        "rnn_history = rnn.fit(X_train, Y_train, batch_size = 256, epochs = 4, validation_data = (X_valid, Y_valid), verbose = 1)"
      ],
      "metadata": {
        "colab": {
          "base_uri": "https://localhost:8080/"
        },
        "id": "qqIHDOGEOn_r",
        "outputId": "0b1fc9ed-ed8d-462c-a3b4-54fadf1c3099"
      },
      "execution_count": null,
      "outputs": [
        {
          "output_type": "stream",
          "name": "stdout",
          "text": [
            "Epoch 1/4\n",
            "157/157 [==============================] - 851s 5s/step - loss: 0.6986 - accuracy: 0.5000 - val_loss: 0.7032 - val_accuracy: 0.4972\n",
            "Epoch 2/4\n",
            "101/157 [==================>...........] - ETA: 5:05 - loss: 0.6959 - accuracy: 0.4998"
          ]
        }
      ]
    },
    {
      "cell_type": "code",
      "source": [
        "visualise_train(rnn_history)"
      ],
      "metadata": {
        "id": "cNrn1GRXO4Dd"
      },
      "execution_count": null,
      "outputs": []
    }
  ]
}